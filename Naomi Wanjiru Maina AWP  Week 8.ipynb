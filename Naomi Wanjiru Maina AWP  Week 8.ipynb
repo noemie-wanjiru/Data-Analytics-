{
 "cells": [
  {
   "cell_type": "markdown",
   "metadata": {},
   "source": [
    "# `Business Understanding`"
   ]
  },
  {
   "cell_type": "markdown",
   "metadata": {},
   "source": [
    "Train a machine learning model to predict the `product category` based on the other features."
   ]
  },
  {
   "cell_type": "markdown",
   "metadata": {},
   "source": [
    "# `Data Understanding`"
   ]
  },
  {
   "cell_type": "markdown",
   "metadata": {},
   "source": [
    "## Importation of all necessary packages"
   ]
  },
  {
   "cell_type": "code",
   "execution_count": 1,
   "metadata": {},
   "outputs": [],
   "source": [
    "import pandas as pd\n",
    "import numpy as np\n",
    "import matplotlib.pyplot as plt\n",
    "import seaborn as sns\n",
    "import warnings\n",
    "warnings.filterwarnings('ignore')\n",
    "%matplotlib inline"
   ]
  },
  {
   "cell_type": "markdown",
   "metadata": {},
   "source": [
    "## Read Data"
   ]
  },
  {
   "cell_type": "code",
   "execution_count": 2,
   "metadata": {},
   "outputs": [
    {
     "data": {
      "text/html": [
       "<div>\n",
       "<style scoped>\n",
       "    .dataframe tbody tr th:only-of-type {\n",
       "        vertical-align: middle;\n",
       "    }\n",
       "\n",
       "    .dataframe tbody tr th {\n",
       "        vertical-align: top;\n",
       "    }\n",
       "\n",
       "    .dataframe thead th {\n",
       "        text-align: right;\n",
       "    }\n",
       "</style>\n",
       "<table border=\"1\" class=\"dataframe\">\n",
       "  <thead>\n",
       "    <tr style=\"text-align: right;\">\n",
       "      <th></th>\n",
       "      <th>index</th>\n",
       "      <th>Date</th>\n",
       "      <th>Year</th>\n",
       "      <th>Month</th>\n",
       "      <th>Customer Age</th>\n",
       "      <th>Customer Gender</th>\n",
       "      <th>Country</th>\n",
       "      <th>State</th>\n",
       "      <th>Product Category</th>\n",
       "      <th>Sub Category</th>\n",
       "      <th>Quantity</th>\n",
       "      <th>Unit Cost</th>\n",
       "      <th>Unit Price</th>\n",
       "      <th>Cost</th>\n",
       "      <th>Revenue</th>\n",
       "      <th>Column1</th>\n",
       "    </tr>\n",
       "  </thead>\n",
       "  <tbody>\n",
       "    <tr>\n",
       "      <th>0</th>\n",
       "      <td>0</td>\n",
       "      <td>2/19/2016</td>\n",
       "      <td>2016.0</td>\n",
       "      <td>February</td>\n",
       "      <td>29.0</td>\n",
       "      <td>F</td>\n",
       "      <td>United States</td>\n",
       "      <td>Washington</td>\n",
       "      <td>Accessories</td>\n",
       "      <td>Tires and Tubes</td>\n",
       "      <td>1.0</td>\n",
       "      <td>80.00</td>\n",
       "      <td>109.000000</td>\n",
       "      <td>80.0</td>\n",
       "      <td>109.0</td>\n",
       "      <td>NaN</td>\n",
       "    </tr>\n",
       "    <tr>\n",
       "      <th>1</th>\n",
       "      <td>1</td>\n",
       "      <td>2/20/2016</td>\n",
       "      <td>2016.0</td>\n",
       "      <td>February</td>\n",
       "      <td>29.0</td>\n",
       "      <td>F</td>\n",
       "      <td>United States</td>\n",
       "      <td>Washington</td>\n",
       "      <td>Clothing</td>\n",
       "      <td>Gloves</td>\n",
       "      <td>2.0</td>\n",
       "      <td>24.50</td>\n",
       "      <td>28.500000</td>\n",
       "      <td>49.0</td>\n",
       "      <td>57.0</td>\n",
       "      <td>NaN</td>\n",
       "    </tr>\n",
       "    <tr>\n",
       "      <th>2</th>\n",
       "      <td>2</td>\n",
       "      <td>2/27/2016</td>\n",
       "      <td>2016.0</td>\n",
       "      <td>February</td>\n",
       "      <td>29.0</td>\n",
       "      <td>F</td>\n",
       "      <td>United States</td>\n",
       "      <td>Washington</td>\n",
       "      <td>Accessories</td>\n",
       "      <td>Tires and Tubes</td>\n",
       "      <td>3.0</td>\n",
       "      <td>3.67</td>\n",
       "      <td>5.000000</td>\n",
       "      <td>11.0</td>\n",
       "      <td>15.0</td>\n",
       "      <td>NaN</td>\n",
       "    </tr>\n",
       "    <tr>\n",
       "      <th>3</th>\n",
       "      <td>3</td>\n",
       "      <td>3/12/2016</td>\n",
       "      <td>2016.0</td>\n",
       "      <td>March</td>\n",
       "      <td>29.0</td>\n",
       "      <td>F</td>\n",
       "      <td>United States</td>\n",
       "      <td>Washington</td>\n",
       "      <td>Accessories</td>\n",
       "      <td>Tires and Tubes</td>\n",
       "      <td>2.0</td>\n",
       "      <td>87.50</td>\n",
       "      <td>116.500000</td>\n",
       "      <td>175.0</td>\n",
       "      <td>233.0</td>\n",
       "      <td>NaN</td>\n",
       "    </tr>\n",
       "    <tr>\n",
       "      <th>4</th>\n",
       "      <td>4</td>\n",
       "      <td>3/12/2016</td>\n",
       "      <td>2016.0</td>\n",
       "      <td>March</td>\n",
       "      <td>29.0</td>\n",
       "      <td>F</td>\n",
       "      <td>United States</td>\n",
       "      <td>Washington</td>\n",
       "      <td>Accessories</td>\n",
       "      <td>Tires and Tubes</td>\n",
       "      <td>3.0</td>\n",
       "      <td>35.00</td>\n",
       "      <td>41.666667</td>\n",
       "      <td>105.0</td>\n",
       "      <td>125.0</td>\n",
       "      <td>NaN</td>\n",
       "    </tr>\n",
       "  </tbody>\n",
       "</table>\n",
       "</div>"
      ],
      "text/plain": [
       "   index       Date    Year     Month  Customer Age Customer Gender  \\\n",
       "0      0  2/19/2016  2016.0  February          29.0               F   \n",
       "1      1  2/20/2016  2016.0  February          29.0               F   \n",
       "2      2  2/27/2016  2016.0  February          29.0               F   \n",
       "3      3  3/12/2016  2016.0     March          29.0               F   \n",
       "4      4  3/12/2016  2016.0     March          29.0               F   \n",
       "\n",
       "         Country       State Product Category     Sub Category  Quantity  \\\n",
       "0  United States  Washington      Accessories  Tires and Tubes       1.0   \n",
       "1  United States  Washington         Clothing           Gloves       2.0   \n",
       "2  United States  Washington      Accessories  Tires and Tubes       3.0   \n",
       "3  United States  Washington      Accessories  Tires and Tubes       2.0   \n",
       "4  United States  Washington      Accessories  Tires and Tubes       3.0   \n",
       "\n",
       "   Unit Cost  Unit Price   Cost  Revenue  Column1  \n",
       "0      80.00  109.000000   80.0    109.0      NaN  \n",
       "1      24.50   28.500000   49.0     57.0      NaN  \n",
       "2       3.67    5.000000   11.0     15.0      NaN  \n",
       "3      87.50  116.500000  175.0    233.0      NaN  \n",
       "4      35.00   41.666667  105.0    125.0      NaN  "
      ]
     },
     "execution_count": 2,
     "metadata": {},
     "output_type": "execute_result"
    }
   ],
   "source": [
    "df = pd.read_csv('dollar_tree.csv')\n",
    "df.head()"
   ]
  },
  {
   "cell_type": "markdown",
   "metadata": {},
   "source": [
    "## Perform a `brief` EDA  (info(), describe(), corr() etc)"
   ]
  },
  {
   "cell_type": "code",
   "execution_count": 3,
   "metadata": {},
   "outputs": [
    {
     "name": "stdout",
     "output_type": "stream",
     "text": [
      "<class 'pandas.core.frame.DataFrame'>\n",
      "RangeIndex: 34867 entries, 0 to 34866\n",
      "Data columns (total 16 columns):\n",
      " #   Column            Non-Null Count  Dtype  \n",
      "---  ------            --------------  -----  \n",
      " 0   index             34867 non-null  int64  \n",
      " 1   Date              34866 non-null  object \n",
      " 2   Year              34866 non-null  float64\n",
      " 3   Month             34866 non-null  object \n",
      " 4   Customer Age      34866 non-null  float64\n",
      " 5   Customer Gender   34866 non-null  object \n",
      " 6   Country           34866 non-null  object \n",
      " 7   State             34866 non-null  object \n",
      " 8   Product Category  34866 non-null  object \n",
      " 9   Sub Category      34866 non-null  object \n",
      " 10  Quantity          34866 non-null  float64\n",
      " 11  Unit Cost         34866 non-null  float64\n",
      " 12  Unit Price        34866 non-null  float64\n",
      " 13  Cost              34866 non-null  float64\n",
      " 14  Revenue           34867 non-null  float64\n",
      " 15  Column1           2574 non-null   float64\n",
      "dtypes: float64(8), int64(1), object(7)\n",
      "memory usage: 4.3+ MB\n"
     ]
    }
   ],
   "source": [
    "df.info()"
   ]
  },
  {
   "cell_type": "code",
   "execution_count": 4,
   "metadata": {},
   "outputs": [
    {
     "data": {
      "text/html": [
       "<div>\n",
       "<style scoped>\n",
       "    .dataframe tbody tr th:only-of-type {\n",
       "        vertical-align: middle;\n",
       "    }\n",
       "\n",
       "    .dataframe tbody tr th {\n",
       "        vertical-align: top;\n",
       "    }\n",
       "\n",
       "    .dataframe thead th {\n",
       "        text-align: right;\n",
       "    }\n",
       "</style>\n",
       "<table border=\"1\" class=\"dataframe\">\n",
       "  <thead>\n",
       "    <tr style=\"text-align: right;\">\n",
       "      <th></th>\n",
       "      <th>index</th>\n",
       "      <th>Year</th>\n",
       "      <th>Customer Age</th>\n",
       "      <th>Quantity</th>\n",
       "      <th>Unit Cost</th>\n",
       "      <th>Unit Price</th>\n",
       "      <th>Cost</th>\n",
       "      <th>Revenue</th>\n",
       "      <th>Column1</th>\n",
       "    </tr>\n",
       "  </thead>\n",
       "  <tbody>\n",
       "    <tr>\n",
       "      <th>count</th>\n",
       "      <td>34867.000000</td>\n",
       "      <td>34866.000000</td>\n",
       "      <td>34866.000000</td>\n",
       "      <td>34866.000000</td>\n",
       "      <td>34866.000000</td>\n",
       "      <td>34866.000000</td>\n",
       "      <td>34866.000000</td>\n",
       "      <td>34867.000000</td>\n",
       "      <td>2574.000000</td>\n",
       "    </tr>\n",
       "    <tr>\n",
       "      <th>mean</th>\n",
       "      <td>17433.000000</td>\n",
       "      <td>2015.569237</td>\n",
       "      <td>36.382895</td>\n",
       "      <td>2.002524</td>\n",
       "      <td>349.880567</td>\n",
       "      <td>389.232485</td>\n",
       "      <td>576.004532</td>\n",
       "      <td>640.870093</td>\n",
       "      <td>688.054913</td>\n",
       "    </tr>\n",
       "    <tr>\n",
       "      <th>std</th>\n",
       "      <td>10065.380254</td>\n",
       "      <td>0.495190</td>\n",
       "      <td>11.112902</td>\n",
       "      <td>0.813936</td>\n",
       "      <td>490.015846</td>\n",
       "      <td>525.319091</td>\n",
       "      <td>690.500395</td>\n",
       "      <td>736.640033</td>\n",
       "      <td>774.200897</td>\n",
       "    </tr>\n",
       "    <tr>\n",
       "      <th>min</th>\n",
       "      <td>0.000000</td>\n",
       "      <td>2015.000000</td>\n",
       "      <td>17.000000</td>\n",
       "      <td>1.000000</td>\n",
       "      <td>0.670000</td>\n",
       "      <td>0.666667</td>\n",
       "      <td>2.000000</td>\n",
       "      <td>2.000000</td>\n",
       "      <td>2.000000</td>\n",
       "    </tr>\n",
       "    <tr>\n",
       "      <th>25%</th>\n",
       "      <td>8716.500000</td>\n",
       "      <td>2015.000000</td>\n",
       "      <td>28.000000</td>\n",
       "      <td>1.000000</td>\n",
       "      <td>45.000000</td>\n",
       "      <td>53.666667</td>\n",
       "      <td>85.000000</td>\n",
       "      <td>102.000000</td>\n",
       "      <td>104.250000</td>\n",
       "    </tr>\n",
       "    <tr>\n",
       "      <th>50%</th>\n",
       "      <td>17433.000000</td>\n",
       "      <td>2016.000000</td>\n",
       "      <td>35.000000</td>\n",
       "      <td>2.000000</td>\n",
       "      <td>150.000000</td>\n",
       "      <td>179.000000</td>\n",
       "      <td>261.000000</td>\n",
       "      <td>319.000000</td>\n",
       "      <td>390.500000</td>\n",
       "    </tr>\n",
       "    <tr>\n",
       "      <th>75%</th>\n",
       "      <td>26149.500000</td>\n",
       "      <td>2016.000000</td>\n",
       "      <td>44.000000</td>\n",
       "      <td>3.000000</td>\n",
       "      <td>455.000000</td>\n",
       "      <td>521.000000</td>\n",
       "      <td>769.000000</td>\n",
       "      <td>902.000000</td>\n",
       "      <td>975.750000</td>\n",
       "    </tr>\n",
       "    <tr>\n",
       "      <th>max</th>\n",
       "      <td>34866.000000</td>\n",
       "      <td>2016.000000</td>\n",
       "      <td>87.000000</td>\n",
       "      <td>3.000000</td>\n",
       "      <td>3240.000000</td>\n",
       "      <td>5082.000000</td>\n",
       "      <td>3600.000000</td>\n",
       "      <td>5082.000000</td>\n",
       "      <td>3681.000000</td>\n",
       "    </tr>\n",
       "  </tbody>\n",
       "</table>\n",
       "</div>"
      ],
      "text/plain": [
       "              index          Year  Customer Age      Quantity     Unit Cost  \\\n",
       "count  34867.000000  34866.000000  34866.000000  34866.000000  34866.000000   \n",
       "mean   17433.000000   2015.569237     36.382895      2.002524    349.880567   \n",
       "std    10065.380254      0.495190     11.112902      0.813936    490.015846   \n",
       "min        0.000000   2015.000000     17.000000      1.000000      0.670000   \n",
       "25%     8716.500000   2015.000000     28.000000      1.000000     45.000000   \n",
       "50%    17433.000000   2016.000000     35.000000      2.000000    150.000000   \n",
       "75%    26149.500000   2016.000000     44.000000      3.000000    455.000000   \n",
       "max    34866.000000   2016.000000     87.000000      3.000000   3240.000000   \n",
       "\n",
       "         Unit Price          Cost       Revenue      Column1  \n",
       "count  34866.000000  34866.000000  34867.000000  2574.000000  \n",
       "mean     389.232485    576.004532    640.870093   688.054913  \n",
       "std      525.319091    690.500395    736.640033   774.200897  \n",
       "min        0.666667      2.000000      2.000000     2.000000  \n",
       "25%       53.666667     85.000000    102.000000   104.250000  \n",
       "50%      179.000000    261.000000    319.000000   390.500000  \n",
       "75%      521.000000    769.000000    902.000000   975.750000  \n",
       "max     5082.000000   3600.000000   5082.000000  3681.000000  "
      ]
     },
     "execution_count": 4,
     "metadata": {},
     "output_type": "execute_result"
    }
   ],
   "source": [
    "df.describe()"
   ]
  },
  {
   "cell_type": "code",
   "execution_count": 5,
   "metadata": {},
   "outputs": [
    {
     "data": {
      "text/html": [
       "<style type=\"text/css\">\n",
       "#T_127d7_row0_col0, #T_127d7_row1_col1, #T_127d7_row2_col2, #T_127d7_row3_col3, #T_127d7_row4_col4, #T_127d7_row5_col5, #T_127d7_row6_col6, #T_127d7_row7_col7, #T_127d7_row8_col8 {\n",
       "  background-color: #053061;\n",
       "  color: #f1f1f1;\n",
       "}\n",
       "#T_127d7_row0_col1, #T_127d7_row0_col3, #T_127d7_row1_col0, #T_127d7_row1_col3, #T_127d7_row2_col3, #T_127d7_row2_col8, #T_127d7_row3_col0, #T_127d7_row3_col1, #T_127d7_row3_col2, #T_127d7_row8_col2 {\n",
       "  background-color: #f6f7f7;\n",
       "  color: #000000;\n",
       "}\n",
       "#T_127d7_row0_col2, #T_127d7_row2_col0 {\n",
       "  background-color: #f8f1ed;\n",
       "  color: #000000;\n",
       "}\n",
       "#T_127d7_row0_col4, #T_127d7_row0_col5, #T_127d7_row4_col0, #T_127d7_row5_col0 {\n",
       "  background-color: #f9eee7;\n",
       "  color: #000000;\n",
       "}\n",
       "#T_127d7_row0_col6, #T_127d7_row0_col7, #T_127d7_row1_col6, #T_127d7_row6_col0, #T_127d7_row6_col1, #T_127d7_row7_col0 {\n",
       "  background-color: #f9ebe3;\n",
       "  color: #000000;\n",
       "}\n",
       "#T_127d7_row0_col8, #T_127d7_row8_col0 {\n",
       "  background-color: #fbe3d4;\n",
       "  color: #000000;\n",
       "}\n",
       "#T_127d7_row1_col2, #T_127d7_row2_col1 {\n",
       "  background-color: #edf2f5;\n",
       "  color: #000000;\n",
       "}\n",
       "#T_127d7_row1_col4, #T_127d7_row4_col1 {\n",
       "  background-color: #f9ede5;\n",
       "  color: #000000;\n",
       "}\n",
       "#T_127d7_row1_col5, #T_127d7_row5_col1 {\n",
       "  background-color: #f8f4f2;\n",
       "  color: #000000;\n",
       "}\n",
       "#T_127d7_row1_col7, #T_127d7_row1_col8, #T_127d7_row3_col8, #T_127d7_row7_col1, #T_127d7_row8_col1, #T_127d7_row8_col3 {\n",
       "  background-color: #f8f3f0;\n",
       "  color: #000000;\n",
       "}\n",
       "#T_127d7_row2_col4, #T_127d7_row2_col5, #T_127d7_row4_col2, #T_127d7_row4_col8, #T_127d7_row5_col2, #T_127d7_row5_col8, #T_127d7_row7_col8, #T_127d7_row8_col4, #T_127d7_row8_col5, #T_127d7_row8_col7 {\n",
       "  background-color: #f3f5f6;\n",
       "  color: #000000;\n",
       "}\n",
       "#T_127d7_row2_col6, #T_127d7_row2_col7, #T_127d7_row6_col2, #T_127d7_row6_col8, #T_127d7_row7_col2, #T_127d7_row8_col6 {\n",
       "  background-color: #f2f5f6;\n",
       "  color: #000000;\n",
       "}\n",
       "#T_127d7_row3_col4, #T_127d7_row4_col3 {\n",
       "  background-color: #f8bb9e;\n",
       "  color: #000000;\n",
       "}\n",
       "#T_127d7_row3_col5, #T_127d7_row5_col3 {\n",
       "  background-color: #f7b99c;\n",
       "  color: #000000;\n",
       "}\n",
       "#T_127d7_row3_col6, #T_127d7_row3_col7, #T_127d7_row6_col3, #T_127d7_row7_col3 {\n",
       "  background-color: #f5f6f7;\n",
       "  color: #000000;\n",
       "}\n",
       "#T_127d7_row4_col5, #T_127d7_row5_col4, #T_127d7_row6_col7, #T_127d7_row7_col6 {\n",
       "  background-color: #073467;\n",
       "  color: #f1f1f1;\n",
       "}\n",
       "#T_127d7_row4_col6, #T_127d7_row6_col4 {\n",
       "  background-color: #195696;\n",
       "  color: #f1f1f1;\n",
       "}\n",
       "#T_127d7_row4_col7, #T_127d7_row7_col4 {\n",
       "  background-color: #1b5a9c;\n",
       "  color: #f1f1f1;\n",
       "}\n",
       "#T_127d7_row5_col6, #T_127d7_row6_col5 {\n",
       "  background-color: #1c5c9f;\n",
       "  color: #f1f1f1;\n",
       "}\n",
       "#T_127d7_row5_col7, #T_127d7_row7_col5 {\n",
       "  background-color: #1a5899;\n",
       "  color: #f1f1f1;\n",
       "}\n",
       "</style>\n",
       "<table id=\"T_127d7\">\n",
       "  <thead>\n",
       "    <tr>\n",
       "      <th class=\"blank level0\" >&nbsp;</th>\n",
       "      <th id=\"T_127d7_level0_col0\" class=\"col_heading level0 col0\" >index</th>\n",
       "      <th id=\"T_127d7_level0_col1\" class=\"col_heading level0 col1\" >Year</th>\n",
       "      <th id=\"T_127d7_level0_col2\" class=\"col_heading level0 col2\" >Customer Age</th>\n",
       "      <th id=\"T_127d7_level0_col3\" class=\"col_heading level0 col3\" >Quantity</th>\n",
       "      <th id=\"T_127d7_level0_col4\" class=\"col_heading level0 col4\" >Unit Cost</th>\n",
       "      <th id=\"T_127d7_level0_col5\" class=\"col_heading level0 col5\" >Unit Price</th>\n",
       "      <th id=\"T_127d7_level0_col6\" class=\"col_heading level0 col6\" >Cost</th>\n",
       "      <th id=\"T_127d7_level0_col7\" class=\"col_heading level0 col7\" >Revenue</th>\n",
       "      <th id=\"T_127d7_level0_col8\" class=\"col_heading level0 col8\" >Column1</th>\n",
       "    </tr>\n",
       "  </thead>\n",
       "  <tbody>\n",
       "    <tr>\n",
       "      <th id=\"T_127d7_level0_row0\" class=\"row_heading level0 row0\" >index</th>\n",
       "      <td id=\"T_127d7_row0_col0\" class=\"data row0 col0\" >1.000000</td>\n",
       "      <td id=\"T_127d7_row0_col1\" class=\"data row0 col1\" >0.003961</td>\n",
       "      <td id=\"T_127d7_row0_col2\" class=\"data row0 col2\" >-0.045523</td>\n",
       "      <td id=\"T_127d7_row0_col3\" class=\"data row0 col3\" >0.002157</td>\n",
       "      <td id=\"T_127d7_row0_col4\" class=\"data row0 col4\" >-0.068250</td>\n",
       "      <td id=\"T_127d7_row0_col5\" class=\"data row0 col5\" >-0.069691</td>\n",
       "      <td id=\"T_127d7_row0_col6\" class=\"data row0 col6\" >-0.081392</td>\n",
       "      <td id=\"T_127d7_row0_col7\" class=\"data row0 col7\" >-0.083338</td>\n",
       "      <td id=\"T_127d7_row0_col8\" class=\"data row0 col8\" >-0.145997</td>\n",
       "    </tr>\n",
       "    <tr>\n",
       "      <th id=\"T_127d7_level0_row1\" class=\"row_heading level0 row1\" >Year</th>\n",
       "      <td id=\"T_127d7_row1_col0\" class=\"data row1 col0\" >0.003961</td>\n",
       "      <td id=\"T_127d7_row1_col1\" class=\"data row1 col1\" >1.000000</td>\n",
       "      <td id=\"T_127d7_row1_col2\" class=\"data row1 col2\" >0.049873</td>\n",
       "      <td id=\"T_127d7_row1_col3\" class=\"data row1 col3\" >0.000919</td>\n",
       "      <td id=\"T_127d7_row1_col4\" class=\"data row1 col4\" >-0.073245</td>\n",
       "      <td id=\"T_127d7_row1_col5\" class=\"data row1 col5\" >-0.022628</td>\n",
       "      <td id=\"T_127d7_row1_col6\" class=\"data row1 col6\" >-0.084566</td>\n",
       "      <td id=\"T_127d7_row1_col7\" class=\"data row1 col7\" >-0.025361</td>\n",
       "      <td id=\"T_127d7_row1_col8\" class=\"data row1 col8\" >-0.025333</td>\n",
       "    </tr>\n",
       "    <tr>\n",
       "      <th id=\"T_127d7_level0_row2\" class=\"row_heading level0 row2\" >Customer Age</th>\n",
       "      <td id=\"T_127d7_row2_col0\" class=\"data row2 col0\" >-0.045523</td>\n",
       "      <td id=\"T_127d7_row2_col1\" class=\"data row2 col1\" >0.049873</td>\n",
       "      <td id=\"T_127d7_row2_col2\" class=\"data row2 col2\" >1.000000</td>\n",
       "      <td id=\"T_127d7_row2_col3\" class=\"data row2 col3\" >0.004383</td>\n",
       "      <td id=\"T_127d7_row2_col4\" class=\"data row2 col4\" >0.022362</td>\n",
       "      <td id=\"T_127d7_row2_col5\" class=\"data row2 col5\" >0.023412</td>\n",
       "      <td id=\"T_127d7_row2_col6\" class=\"data row2 col6\" >0.023641</td>\n",
       "      <td id=\"T_127d7_row2_col7\" class=\"data row2 col7\" >0.024836</td>\n",
       "      <td id=\"T_127d7_row2_col8\" class=\"data row2 col8\" >0.001198</td>\n",
       "    </tr>\n",
       "    <tr>\n",
       "      <th id=\"T_127d7_level0_row3\" class=\"row_heading level0 row3\" >Quantity</th>\n",
       "      <td id=\"T_127d7_row3_col0\" class=\"data row3 col0\" >0.002157</td>\n",
       "      <td id=\"T_127d7_row3_col1\" class=\"data row3 col1\" >0.000919</td>\n",
       "      <td id=\"T_127d7_row3_col2\" class=\"data row3 col2\" >0.004383</td>\n",
       "      <td id=\"T_127d7_row3_col3\" class=\"data row3 col3\" >1.000000</td>\n",
       "      <td id=\"T_127d7_row3_col4\" class=\"data row3 col4\" >-0.312514</td>\n",
       "      <td id=\"T_127d7_row3_col5\" class=\"data row3 col5\" >-0.324109</td>\n",
       "      <td id=\"T_127d7_row3_col6\" class=\"data row3 col6\" >0.008295</td>\n",
       "      <td id=\"T_127d7_row3_col7\" class=\"data row3 col7\" >0.008418</td>\n",
       "      <td id=\"T_127d7_row3_col8\" class=\"data row3 col8\" >-0.024744</td>\n",
       "    </tr>\n",
       "    <tr>\n",
       "      <th id=\"T_127d7_level0_row4\" class=\"row_heading level0 row4\" >Unit Cost</th>\n",
       "      <td id=\"T_127d7_row4_col0\" class=\"data row4 col0\" >-0.068250</td>\n",
       "      <td id=\"T_127d7_row4_col1\" class=\"data row4 col1\" >-0.073245</td>\n",
       "      <td id=\"T_127d7_row4_col2\" class=\"data row4 col2\" >0.022362</td>\n",
       "      <td id=\"T_127d7_row4_col3\" class=\"data row4 col3\" >-0.312514</td>\n",
       "      <td id=\"T_127d7_row4_col4\" class=\"data row4 col4\" >1.000000</td>\n",
       "      <td id=\"T_127d7_row4_col5\" class=\"data row4 col5\" >0.981033</td>\n",
       "      <td id=\"T_127d7_row4_col6\" class=\"data row4 col6\" >0.854908</td>\n",
       "      <td id=\"T_127d7_row4_col7\" class=\"data row4 col7\" >0.836957</td>\n",
       "      <td id=\"T_127d7_row4_col8\" class=\"data row4 col8\" >0.021894</td>\n",
       "    </tr>\n",
       "    <tr>\n",
       "      <th id=\"T_127d7_level0_row5\" class=\"row_heading level0 row5\" >Unit Price</th>\n",
       "      <td id=\"T_127d7_row5_col0\" class=\"data row5 col0\" >-0.069691</td>\n",
       "      <td id=\"T_127d7_row5_col1\" class=\"data row5 col1\" >-0.022628</td>\n",
       "      <td id=\"T_127d7_row5_col2\" class=\"data row5 col2\" >0.023412</td>\n",
       "      <td id=\"T_127d7_row5_col3\" class=\"data row5 col3\" >-0.324109</td>\n",
       "      <td id=\"T_127d7_row5_col4\" class=\"data row5 col4\" >0.981033</td>\n",
       "      <td id=\"T_127d7_row5_col5\" class=\"data row5 col5\" >1.000000</td>\n",
       "      <td id=\"T_127d7_row5_col6\" class=\"data row5 col6\" >0.832968</td>\n",
       "      <td id=\"T_127d7_row5_col7\" class=\"data row5 col7\" >0.851034</td>\n",
       "      <td id=\"T_127d7_row5_col8\" class=\"data row5 col8\" >0.019971</td>\n",
       "    </tr>\n",
       "    <tr>\n",
       "      <th id=\"T_127d7_level0_row6\" class=\"row_heading level0 row6\" >Cost</th>\n",
       "      <td id=\"T_127d7_row6_col0\" class=\"data row6 col0\" >-0.081392</td>\n",
       "      <td id=\"T_127d7_row6_col1\" class=\"data row6 col1\" >-0.084566</td>\n",
       "      <td id=\"T_127d7_row6_col2\" class=\"data row6 col2\" >0.023641</td>\n",
       "      <td id=\"T_127d7_row6_col3\" class=\"data row6 col3\" >0.008295</td>\n",
       "      <td id=\"T_127d7_row6_col4\" class=\"data row6 col4\" >0.854908</td>\n",
       "      <td id=\"T_127d7_row6_col5\" class=\"data row6 col5\" >0.832968</td>\n",
       "      <td id=\"T_127d7_row6_col6\" class=\"data row6 col6\" >1.000000</td>\n",
       "      <td id=\"T_127d7_row6_col7\" class=\"data row6 col7\" >0.979119</td>\n",
       "      <td id=\"T_127d7_row6_col8\" class=\"data row6 col8\" >0.024892</td>\n",
       "    </tr>\n",
       "    <tr>\n",
       "      <th id=\"T_127d7_level0_row7\" class=\"row_heading level0 row7\" >Revenue</th>\n",
       "      <td id=\"T_127d7_row7_col0\" class=\"data row7 col0\" >-0.083338</td>\n",
       "      <td id=\"T_127d7_row7_col1\" class=\"data row7 col1\" >-0.025361</td>\n",
       "      <td id=\"T_127d7_row7_col2\" class=\"data row7 col2\" >0.024836</td>\n",
       "      <td id=\"T_127d7_row7_col3\" class=\"data row7 col3\" >0.008418</td>\n",
       "      <td id=\"T_127d7_row7_col4\" class=\"data row7 col4\" >0.836957</td>\n",
       "      <td id=\"T_127d7_row7_col5\" class=\"data row7 col5\" >0.851034</td>\n",
       "      <td id=\"T_127d7_row7_col6\" class=\"data row7 col6\" >0.979119</td>\n",
       "      <td id=\"T_127d7_row7_col7\" class=\"data row7 col7\" >1.000000</td>\n",
       "      <td id=\"T_127d7_row7_col8\" class=\"data row7 col8\" >0.022325</td>\n",
       "    </tr>\n",
       "    <tr>\n",
       "      <th id=\"T_127d7_level0_row8\" class=\"row_heading level0 row8\" >Column1</th>\n",
       "      <td id=\"T_127d7_row8_col0\" class=\"data row8 col0\" >-0.145997</td>\n",
       "      <td id=\"T_127d7_row8_col1\" class=\"data row8 col1\" >-0.025333</td>\n",
       "      <td id=\"T_127d7_row8_col2\" class=\"data row8 col2\" >0.001198</td>\n",
       "      <td id=\"T_127d7_row8_col3\" class=\"data row8 col3\" >-0.024744</td>\n",
       "      <td id=\"T_127d7_row8_col4\" class=\"data row8 col4\" >0.021894</td>\n",
       "      <td id=\"T_127d7_row8_col5\" class=\"data row8 col5\" >0.019971</td>\n",
       "      <td id=\"T_127d7_row8_col6\" class=\"data row8 col6\" >0.024892</td>\n",
       "      <td id=\"T_127d7_row8_col7\" class=\"data row8 col7\" >0.022325</td>\n",
       "      <td id=\"T_127d7_row8_col8\" class=\"data row8 col8\" >1.000000</td>\n",
       "    </tr>\n",
       "  </tbody>\n",
       "</table>\n"
      ],
      "text/plain": [
       "<pandas.io.formats.style.Styler at 0x273c2461a00>"
      ]
     },
     "execution_count": 5,
     "metadata": {},
     "output_type": "execute_result"
    }
   ],
   "source": [
    "df.corr(numeric_only=True).style.background_gradient(cmap='RdBu', vmin=-1, vmax=1)"
   ]
  },
  {
   "cell_type": "markdown",
   "metadata": {},
   "source": [
    "# `Data Preparation`"
   ]
  },
  {
   "cell_type": "markdown",
   "metadata": {},
   "source": [
    "## Data Cleaning"
   ]
  },
  {
   "cell_type": "code",
   "execution_count": 6,
   "metadata": {},
   "outputs": [
    {
     "data": {
      "text/html": [
       "<div>\n",
       "<style scoped>\n",
       "    .dataframe tbody tr th:only-of-type {\n",
       "        vertical-align: middle;\n",
       "    }\n",
       "\n",
       "    .dataframe tbody tr th {\n",
       "        vertical-align: top;\n",
       "    }\n",
       "\n",
       "    .dataframe thead th {\n",
       "        text-align: right;\n",
       "    }\n",
       "</style>\n",
       "<table border=\"1\" class=\"dataframe\">\n",
       "  <thead>\n",
       "    <tr style=\"text-align: right;\">\n",
       "      <th></th>\n",
       "      <th>Month</th>\n",
       "      <th>age</th>\n",
       "      <th>gender</th>\n",
       "      <th>Country</th>\n",
       "      <th>product_category</th>\n",
       "      <th>sub_category</th>\n",
       "      <th>Cost</th>\n",
       "      <th>Revenue</th>\n",
       "    </tr>\n",
       "  </thead>\n",
       "  <tbody>\n",
       "    <tr>\n",
       "      <th>0</th>\n",
       "      <td>February</td>\n",
       "      <td>29.0</td>\n",
       "      <td>F</td>\n",
       "      <td>United States</td>\n",
       "      <td>Accessories</td>\n",
       "      <td>Tires and Tubes</td>\n",
       "      <td>80.0</td>\n",
       "      <td>109.0</td>\n",
       "    </tr>\n",
       "    <tr>\n",
       "      <th>1</th>\n",
       "      <td>February</td>\n",
       "      <td>29.0</td>\n",
       "      <td>F</td>\n",
       "      <td>United States</td>\n",
       "      <td>Clothing</td>\n",
       "      <td>Gloves</td>\n",
       "      <td>49.0</td>\n",
       "      <td>57.0</td>\n",
       "    </tr>\n",
       "    <tr>\n",
       "      <th>2</th>\n",
       "      <td>February</td>\n",
       "      <td>29.0</td>\n",
       "      <td>F</td>\n",
       "      <td>United States</td>\n",
       "      <td>Accessories</td>\n",
       "      <td>Tires and Tubes</td>\n",
       "      <td>11.0</td>\n",
       "      <td>15.0</td>\n",
       "    </tr>\n",
       "    <tr>\n",
       "      <th>3</th>\n",
       "      <td>March</td>\n",
       "      <td>29.0</td>\n",
       "      <td>F</td>\n",
       "      <td>United States</td>\n",
       "      <td>Accessories</td>\n",
       "      <td>Tires and Tubes</td>\n",
       "      <td>175.0</td>\n",
       "      <td>233.0</td>\n",
       "    </tr>\n",
       "    <tr>\n",
       "      <th>4</th>\n",
       "      <td>March</td>\n",
       "      <td>29.0</td>\n",
       "      <td>F</td>\n",
       "      <td>United States</td>\n",
       "      <td>Accessories</td>\n",
       "      <td>Tires and Tubes</td>\n",
       "      <td>105.0</td>\n",
       "      <td>125.0</td>\n",
       "    </tr>\n",
       "  </tbody>\n",
       "</table>\n",
       "</div>"
      ],
      "text/plain": [
       "      Month   age gender        Country product_category     sub_category  \\\n",
       "0  February  29.0      F  United States      Accessories  Tires and Tubes   \n",
       "1  February  29.0      F  United States         Clothing           Gloves   \n",
       "2  February  29.0      F  United States      Accessories  Tires and Tubes   \n",
       "3     March  29.0      F  United States      Accessories  Tires and Tubes   \n",
       "4     March  29.0      F  United States      Accessories  Tires and Tubes   \n",
       "\n",
       "    Cost  Revenue  \n",
       "0   80.0    109.0  \n",
       "1   49.0     57.0  \n",
       "2   11.0     15.0  \n",
       "3  175.0    233.0  \n",
       "4  105.0    125.0  "
      ]
     },
     "execution_count": 6,
     "metadata": {},
     "output_type": "execute_result"
    }
   ],
   "source": [
    "\"\"\"drop columns with unnecessary or redundant features:\n",
    "1. index and Column1 are unnecessary features\n",
    "2. month is a better indicator of sesonality that the date and year\n",
    "3. state is a redudant feature \n",
    "4. unit cost, unit price and quantity can be combined into cost(unit cost*quantity) and revenue (unit price*quantity)\"\"\" \n",
    "\n",
    "dfclean=df.drop(columns=['index','Date', 'Year', 'Column1','State', 'Unit Cost', 'Unit Price', 'Quantity'],axis=1)\n",
    "\n",
    "#rename columns for easy of access\n",
    "dfclean.rename(columns={'Customer Age': 'age', 'Customer Gender' :'gender','Product Category': 'product_category','Sub Category':'sub_category'},inplace=True)\n",
    "dfclean.head()"
   ]
  },
  {
   "cell_type": "code",
   "execution_count": 7,
   "metadata": {},
   "outputs": [
    {
     "data": {
      "text/plain": [
       "Month               1\n",
       "age                 1\n",
       "gender              1\n",
       "Country             1\n",
       "product_category    1\n",
       "sub_category        1\n",
       "Cost                1\n",
       "Revenue             0\n",
       "dtype: int64"
      ]
     },
     "execution_count": 7,
     "metadata": {},
     "output_type": "execute_result"
    }
   ],
   "source": [
    "#check for null values in the new dataframe \n",
    "dfclean.isnull().sum()"
   ]
  },
  {
   "cell_type": "code",
   "execution_count": 8,
   "metadata": {},
   "outputs": [
    {
     "data": {
      "text/plain": [
       "Month               0\n",
       "age                 0\n",
       "gender              0\n",
       "Country             0\n",
       "product_category    0\n",
       "sub_category        0\n",
       "Cost                0\n",
       "Revenue             0\n",
       "dtype: int64"
      ]
     },
     "execution_count": 8,
     "metadata": {},
     "output_type": "execute_result"
    }
   ],
   "source": [
    "#drop null values in product category and sub category\n",
    "dfclean=dfclean.dropna(subset=['product_category', 'sub_category'])\n",
    "#check for null values\n",
    "dfclean.isnull().sum()\n"
   ]
  },
  {
   "cell_type": "markdown",
   "metadata": {},
   "source": [
    "## Divide data into input and output"
   ]
  },
  {
   "cell_type": "code",
   "execution_count": 9,
   "metadata": {},
   "outputs": [],
   "source": [
    "#split the data into input(features) and output(target)\n",
    "y=dfclean['product_category']\n",
    "x=dfclean[['Month','age','gender', 'Country','sub_category', 'Cost','Revenue']]\n",
    "\n"
   ]
  },
  {
   "cell_type": "code",
   "execution_count": 10,
   "metadata": {},
   "outputs": [],
   "source": [
    "#split data into training and test data \n",
    "from sklearn.model_selection import train_test_split\n",
    "\n",
    "x_train, x_test, y_train, y_test=train_test_split(x,y,test_size=0.2, random_state=42)"
   ]
  },
  {
   "cell_type": "code",
   "execution_count": 11,
   "metadata": {},
   "outputs": [
    {
     "data": {
      "text/plain": [
       "6974"
      ]
     },
     "execution_count": 11,
     "metadata": {},
     "output_type": "execute_result"
    }
   ],
   "source": [
    "len(y_test)"
   ]
  },
  {
   "cell_type": "markdown",
   "metadata": {},
   "source": [
    "## Encoding"
   ]
  },
  {
   "cell_type": "markdown",
   "metadata": {},
   "source": [
    "### 1. Encode the target column (the labels)\n"
   ]
  },
  {
   "cell_type": "code",
   "execution_count": 12,
   "metadata": {},
   "outputs": [],
   "source": [
    "from sklearn.preprocessing import LabelEncoder\n",
    "label_encoder = LabelEncoder()\n",
    "y_train_encoded = label_encoder.fit_transform(y_train)\n",
    "y_test_encoded = label_encoder.transform(y_test)\n",
    "\n"
   ]
  },
  {
   "cell_type": "code",
   "execution_count": 13,
   "metadata": {},
   "outputs": [
    {
     "data": {
      "text/plain": [
       "6974"
      ]
     },
     "execution_count": 13,
     "metadata": {},
     "output_type": "execute_result"
    }
   ],
   "source": [
    "len(y_test_encoded)"
   ]
  },
  {
   "cell_type": "markdown",
   "metadata": {},
   "source": [
    "### 2. Encode categorical columns"
   ]
  },
  {
   "cell_type": "code",
   "execution_count": 14,
   "metadata": {},
   "outputs": [],
   "source": [
    "#use one hot encoding for categorical variables and set drop_first to true to reduce multicolinearity\n",
    "x_train_encoded=pd.get_dummies(x_train[['Month','gender', 'Country','sub_category']],drop_first=True)\n",
    "x_test_encoded=pd.get_dummies(x_test[['Month','gender', 'Country','sub_category']], drop_first=True)\n",
    "\n",
    "\n",
    "\n"
   ]
  },
  {
   "cell_type": "code",
   "execution_count": 15,
   "metadata": {},
   "outputs": [
    {
     "data": {
      "text/plain": [
       "(6974, 31)"
      ]
     },
     "execution_count": 15,
     "metadata": {},
     "output_type": "execute_result"
    }
   ],
   "source": [
    "x_test_encoded.shape"
   ]
  },
  {
   "cell_type": "markdown",
   "metadata": {},
   "source": [
    "### Replace original categorical columns with encoded ones\n",
    "##### Don't forget Reset indices to ensure proper alignment when I concatenate\n"
   ]
  },
  {
   "cell_type": "code",
   "execution_count": 16,
   "metadata": {},
   "outputs": [],
   "source": [
    "#Replace original categorical columns with encoded ones\n",
    "x_train_f = pd.concat([x_train.drop(columns=['Month','age','gender', 'Country','sub_category']),\n",
    "                           x_train_encoded], axis=1).reset_index(drop=True)\n",
    "\n",
    "x_test_f = pd.concat([x_test.drop(columns=['Month','age','gender', 'Country','sub_category']),\n",
    "                          x_test_encoded], axis=1).reset_index(drop=True)"
   ]
  },
  {
   "cell_type": "code",
   "execution_count": 17,
   "metadata": {},
   "outputs": [
    {
     "data": {
      "text/plain": [
       "(6974,)"
      ]
     },
     "execution_count": 17,
     "metadata": {},
     "output_type": "execute_result"
    }
   ],
   "source": [
    "y_test_encoded.shape"
   ]
  },
  {
   "cell_type": "markdown",
   "metadata": {},
   "source": [
    "# `Modeling`"
   ]
  },
  {
   "cell_type": "code",
   "execution_count": 18,
   "metadata": {},
   "outputs": [],
   "source": [
    "#use the RandomForestClassifier\n",
    "\n",
    "from sklearn.ensemble import RandomForestClassifier\n",
    "\n",
    "#initialize the classifier \n",
    "clf=RandomForestClassifier(random_state=42)\n",
    "\n",
    "#train the data \n",
    "clf.fit(x_train_f, y_train_encoded)\n",
    "\n",
    "#make a prediction\n",
    "y_prediction=clf.predict(x_test_f)\n"
   ]
  },
  {
   "cell_type": "markdown",
   "metadata": {},
   "source": [
    "# `Evaluation`"
   ]
  },
  {
   "cell_type": "markdown",
   "metadata": {},
   "source": [
    "### Plot the confusion Matrix using  `matplotlib` and or `seaborn`"
   ]
  },
  {
   "cell_type": "code",
   "execution_count": 19,
   "metadata": {},
   "outputs": [
    {
     "data": {
      "text/plain": [
       "array([[4510,    0,    0],\n",
       "       [   0, 1456,    0],\n",
       "       [   0,    0, 1008]], dtype=int64)"
      ]
     },
     "execution_count": 19,
     "metadata": {},
     "output_type": "execute_result"
    }
   ],
   "source": [
    "from sklearn.metrics import confusion_matrix\n",
    "\n",
    "cf_matrix = confusion_matrix(y_test_encoded, y_prediction)\n",
    "cf_matrix\n"
   ]
  },
  {
   "cell_type": "code",
   "execution_count": 20,
   "metadata": {},
   "outputs": [
    {
     "data": {
      "text/plain": [
       "<Figure size 1000x700 with 0 Axes>"
      ]
     },
     "metadata": {},
     "output_type": "display_data"
    },
    {
     "data": {
      "image/png": "[encoded data removed]",
      "text/plain": [
       "<Figure size 480x480 with 1 Axes>"
      ]
     },
     "metadata": {},
     "output_type": "display_data"
    }
   ],
   "source": [
    "plt.figure(figsize=(10, 7))\n",
    "plt.matshow(cf_matrix, cmap=plt.cm.RdYlBu_r)\n",
    "plt.title(\"Confusion Matrix\")\n",
    "plt.ylabel('Actual Product category')\n",
    "plt.xlabel('Predicted Product category')\n",
    "plt.show()"
   ]
  },
  {
   "cell_type": "markdown",
   "metadata": {},
   "source": [
    "### Build a classification Report"
   ]
  },
  {
   "cell_type": "code",
   "execution_count": 21,
   "metadata": {},
   "outputs": [
    {
     "data": {
      "text/plain": [
       "'              precision    recall  f1-score   support\\n\\n           0       1.00      1.00      1.00      4510\\n           1       1.00      1.00      1.00      1456\\n           2       1.00      1.00      1.00      1008\\n\\n    accuracy                           1.00      6974\\n   macro avg       1.00      1.00      1.00      6974\\nweighted avg       1.00      1.00      1.00      6974\\n'"
      ]
     },
     "execution_count": 21,
     "metadata": {},
     "output_type": "execute_result"
    }
   ],
   "source": [
    "from sklearn.metrics import classification_report\n",
    "\n",
    "classification_report(y_test_encoded, y_prediction)"
   ]
  },
  {
   "cell_type": "code",
   "execution_count": null,
   "metadata": {},
   "outputs": [],
   "source": []
  }
 ],
 "metadata": {
  "kernelspec": {
   "display_name": "Python 3 (ipykernel)",
   "language": "python",
   "name": "python3"
  },
  "language_info": {
   "codemirror_mode": {
    "name": "ipython",
    "version": 3
   },
   "file_extension": ".py",
   "mimetype": "text/x-python",
   "name": "python",
   "nbconvert_exporter": "python",
   "pygments_lexer": "ipython3",
   "version": "3.12.0"
  }
 },
 "nbformat": 4,
 "nbformat_minor": 4
}
